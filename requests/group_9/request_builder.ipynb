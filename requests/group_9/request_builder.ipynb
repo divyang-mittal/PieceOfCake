{
 "cells": [
  {
   "cell_type": "code",
   "id": "initial_id",
   "metadata": {
    "collapsed": true,
    "ExecuteTime": {
     "end_time": "2024-10-23T03:30:49.559425Z",
     "start_time": "2024-10-23T03:30:49.556683Z"
    }
   },
   "source": "import numpy as np",
   "outputs": [],
   "execution_count": 4
  },
  {
   "metadata": {
    "ExecuteTime": {
     "end_time": "2024-10-23T17:45:03.582254Z",
     "start_time": "2024-10-23T17:45:03.575547Z"
    }
   },
   "cell_type": "code",
   "source": [
    "# Easy: uniform between 10 and 12. 4 total requests. \n",
    "easy_requests = [float(round(num, 2)) for num in np.random.uniform(10, 12, 4)]\n",
    "\n",
    "# Medium: uniform between 15 and 30. 40 total requests. \n",
    "medium_requests = [float(round(num, 2)) for num in np.random.uniform(15, 30, 40)]\n",
    "\n",
    "# Hard: bimodal distribution between 10 and 90. 80 total requests.\n",
    "# Generate two sets of samples, one peaking near 10 and the other near 90\n",
    "n = 80\n",
    "samples1 = np.random.normal(15, 5, int(n/2))  # Mean of 15, standard deviation of 5\n",
    "samples2 = np.random.normal(85, 5, int(n/2))  # Mean of 85, standard deviation of 5\n",
    "\n",
    "# Combine them to form a bimodal distribution\n",
    "bimodal_samples = np.concatenate((samples1, samples2))\n",
    "\n",
    "# Clip values to ensure they stay between 10 and 90, and round to 2 decimal points\n",
    "hard_requests = [float(round(np.clip(sample, 10, 90), 2)) for sample in bimodal_samples]\n",
    "\n",
    "print(f\"Easy: {easy_requests}\")\n",
    "print(f\"Medium: {medium_requests}\")\n",
    "print(f\"Hard: {hard_requests}\")"
   ],
   "id": "4d75480a35c3b294",
   "outputs": [
    {
     "name": "stdout",
     "output_type": "stream",
     "text": [
      "Easy: [11.07, 11.41, 10.65, 11.61]\n",
      "Medium: [27.02, 25.84, 29.72, 26.81, 23.57, 19.37, 27.02, 19.29, 17.77, 18.44, 26.89, 15.28, 23.92, 28.17, 29.46, 28.39, 24.36, 18.18, 25.64, 28.2, 29.69, 27.07, 27.39, 27.61, 19.95, 25.41, 16.77, 16.07, 28.43, 28.86, 22.06, 15.38, 22.8, 23.92, 29.37, 20.84, 22.48, 23.55, 18.87, 18.04]\n",
      "Hard: [11.21, 19.18, 15.11, 22.19, 23.74, 12.96, 16.77, 10.0, 14.96, 10.59, 16.7, 12.95, 10.06, 23.71, 17.03, 15.01, 23.56, 11.5, 18.87, 12.47, 16.97, 12.51, 17.48, 11.86, 24.03, 17.2, 17.68, 20.12, 20.62, 17.96, 16.13, 13.8, 17.61, 10.0, 13.51, 12.09, 10.25, 12.89, 16.98, 21.38, 88.34, 90.0, 81.55, 89.56, 84.72, 74.64, 83.18, 85.63, 80.63, 90.0, 80.12, 81.98, 77.14, 88.67, 75.47, 83.44, 90.0, 88.02, 77.83, 75.41, 89.36, 90.0, 86.4, 78.73, 88.73, 90.0, 84.32, 79.39, 85.32, 82.78, 90.0, 87.62, 78.78, 77.24, 83.4, 85.29, 86.87, 90.0, 84.43, 81.98]\n"
     ]
    }
   ],
   "execution_count": 18
  },
  {
   "metadata": {
    "ExecuteTime": {
     "end_time": "2024-10-23T03:40:30.223680Z",
     "start_time": "2024-10-23T03:40:30.218502Z"
    }
   },
   "cell_type": "code",
   "source": [
    "import numpy as np\n",
    "\n",
    "# Generate two sets of samples, one peaking near 10 and the other near 90  \n",
    "n = 80\n",
    "samples1 = np.random.normal(15, 5, int(n/2))  # Mean of 15, standard deviation of 5  \n",
    "samples2 = np.random.normal(85, 5, int(n/2))  # Mean of 85, standard deviation of 5  \n",
    "\n",
    "# Combine them to form a bimodal distribution \n",
    "bimodal_samples = np.concatenate((samples1, samples2))\n",
    "\n",
    "# Clip values to ensure they stay between 10 and 90, and round to 2 decimal points \n",
    "bimodal_samples = [float(round(np.clip(sample, 10, 90), 2)) for sample in bimodal_samples]\n",
    "\n",
    "print(bimodal_samples)"
   ],
   "id": "627c9045706fd6a5",
   "outputs": [
    {
     "name": "stdout",
     "output_type": "stream",
     "text": [
      "[10.0, 21.23, 16.68, 15.47, 10.0, 14.83, 12.3, 16.4, 16.53, 11.75, 13.05, 10.0, 12.04, 12.4, 10.0, 18.39, 23.54, 24.16, 11.9, 25.77, 16.47, 19.36, 15.42, 17.4, 17.14, 10.68, 16.17, 14.1, 12.97, 10.0, 10.0, 21.88, 22.55, 11.83, 27.7, 28.79, 16.97, 18.95, 10.0, 15.54, 78.82, 89.52, 81.79, 90.0, 90.0, 89.79, 78.66, 84.26, 77.29, 90.0, 90.0, 79.86, 86.52, 89.29, 87.75, 90.0, 85.96, 86.42, 82.59, 85.1, 83.5, 90.0, 75.1, 88.11, 88.82, 87.02, 87.21, 85.8, 79.94, 76.98, 90.0, 84.19, 86.25, 86.0, 85.73, 85.99, 80.11, 81.17, 89.93, 81.4]\n"
     ]
    }
   ],
   "execution_count": 15
  },
  {
   "metadata": {
    "ExecuteTime": {
     "end_time": "2024-10-23T18:10:34.446196Z",
     "start_time": "2024-10-23T18:10:34.443855Z"
    }
   },
   "cell_type": "code",
   "source": [
    "d = 25 \n",
    "area = d * (d*1.6)\n",
    "area"
   ],
   "id": "a3fe3ba0e7485eb7",
   "outputs": [
    {
     "data": {
      "text/plain": [
       "1000.0"
      ]
     },
     "execution_count": 22,
     "metadata": {},
     "output_type": "execute_result"
    }
   ],
   "execution_count": 22
  },
  {
   "metadata": {
    "ExecuteTime": {
     "end_time": "2024-10-25T15:40:37.204658Z",
     "start_time": "2024-10-25T15:40:37.201317Z"
    }
   },
   "cell_type": "code",
   "source": [
    "possible_players = [\"d\"] + list(map(str, range(1, 10)))\n",
    "possible_players"
   ],
   "id": "e7d48aea51ce4e44",
   "outputs": [
    {
     "data": {
      "text/plain": [
       "['d', '1', '2', '3', '4', '5', '6', '7', '8', '9']"
      ]
     },
     "execution_count": 1,
     "metadata": {},
     "output_type": "execute_result"
    }
   ],
   "execution_count": 1
  },
  {
   "metadata": {},
   "cell_type": "code",
   "outputs": [],
   "execution_count": null,
   "source": "",
   "id": "f3ca0fdc64dd802b"
  }
 ],
 "metadata": {
  "kernelspec": {
   "display_name": "Python 3",
   "language": "python",
   "name": "python3"
  },
  "language_info": {
   "codemirror_mode": {
    "name": "ipython",
    "version": 2
   },
   "file_extension": ".py",
   "mimetype": "text/x-python",
   "name": "python",
   "nbconvert_exporter": "python",
   "pygments_lexer": "ipython2",
   "version": "2.7.6"
  }
 },
 "nbformat": 4,
 "nbformat_minor": 5
}
