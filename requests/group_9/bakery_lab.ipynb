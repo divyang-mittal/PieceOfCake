{
 "cells": [
  {
   "metadata": {
    "ExecuteTime": {
     "end_time": "2024-10-25T18:52:24.576390Z",
     "start_time": "2024-10-25T18:52:24.573243Z"
    }
   },
   "cell_type": "code",
   "source": [
    "cake_len, cake_width = (17.69, 28.3)\n",
    "cake_area = 500.62700000000007\n",
    "requests =  [33.54, 36.86, 83.28, 18.27, 91.04, 48.52, 75.42, 90.13]\n",
    "noise = 0.04"
   ],
   "id": "6d4e978afa80c314",
   "outputs": [],
   "execution_count": 80
  },
  {
   "metadata": {
    "ExecuteTime": {
     "end_time": "2024-10-25T19:22:59.030865Z",
     "start_time": "2024-10-25T19:22:59.027171Z"
    }
   },
   "cell_type": "code",
   "source": [
    "def transform_list(strings):\n",
    "    result = []\n",
    "    for i, s in enumerate(strings):\n",
    "        result.append(s)\n",
    "        # Add an extra element after every second string\n",
    "        if (i + 1) % 2 == 0:\n",
    "            result.append(s + 'x')\n",
    "    return result\n",
    "\n",
    "# Example list of strings\n",
    "strings = ['a', 'b', 'c', 'd', 'e', 'f', 'g']\n",
    "\n",
    "strings[:3]"
   ],
   "id": "c0472181772fabed",
   "outputs": [
    {
     "data": {
      "text/plain": [
       "['a', 'b', 'c']"
      ]
     },
     "execution_count": 93,
     "metadata": {},
     "output_type": "execute_result"
    }
   ],
   "execution_count": 93
  },
  {
   "metadata": {
    "ExecuteTime": {
     "end_time": "2024-10-25T18:52:51.379294Z",
     "start_time": "2024-10-25T18:52:51.376373Z"
    }
   },
   "cell_type": "code",
   "source": [
    "# Translate the calculated width into coordinates where a vertical line is cut\n",
    "coord_width = [[x_coord, 0] for x_coord in x_width]\n",
    "coord_length = [[x_coord, cake_len] for x_coord in x_width]\n",
    "\n",
    "# List of coordinates [cut1_top, cut1_bottom, ..., cutN_top, cutNbottom]\n",
    "vertical_cuts = [val for pair in zip(coord_width, coord_length) for val in pair]"
   ],
   "id": "8c7711811cd60a0b",
   "outputs": [],
   "execution_count": 83
  },
  {
   "metadata": {},
   "cell_type": "code",
   "outputs": [],
   "execution_count": null,
   "source": "",
   "id": "ce48745aed9bfb21"
  }
 ],
 "metadata": {
  "kernelspec": {
   "display_name": "Python 3",
   "language": "python",
   "name": "python3"
  },
  "language_info": {
   "codemirror_mode": {
    "name": "ipython",
    "version": 2
   },
   "file_extension": ".py",
   "mimetype": "text/x-python",
   "name": "python",
   "nbconvert_exporter": "python",
   "pygments_lexer": "ipython2",
   "version": "2.7.6"
  }
 },
 "nbformat": 4,
 "nbformat_minor": 5
}
